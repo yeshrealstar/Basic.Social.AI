{
  "nbformat": 4,
  "nbformat_minor": 0,
  "metadata": {
    "colab": {
      "provenance": [],
      "authorship_tag": "ABX9TyPlt6TGsa98d7+EUjvso0D2",
      "include_colab_link": true
    },
    "kernelspec": {
      "name": "python3",
      "display_name": "Python 3"
    },
    "language_info": {
      "name": "python"
    }
  },
  "cells": [
    {
      "cell_type": "markdown",
      "metadata": {
        "id": "view-in-github",
        "colab_type": "text"
      },
      "source": [
        "<a href=\"https://colab.research.google.com/github/yeshrealstar/Basic.Social.AI/blob/main/Demo_Check.ipynb\" target=\"_parent\"><img src=\"https://colab.research.google.com/assets/colab-badge.svg\" alt=\"Open In Colab\"/></a>"
      ]
    },
    {
      "cell_type": "code",
      "execution_count": null,
      "metadata": {
        "id": "pXt5K0Cg9Vd-"
      },
      "outputs": [],
      "source": [
        "import ollama"
      ]
    },
    {
      "cell_type": "code",
      "source": [
        "res = ollama.chat(\n",
        "\tmodel=\"llava:7b\",\n",
        "\tmessages=[\n",
        "\t\t{\n",
        "\t\t\t'role': 'user',\n",
        "\t\t\t'content': 'Describe this image:',\n",
        "\t\t\t'images': ['./sample.jpg']\n",
        "\t\t}\n",
        "\t]\n",
        ")\n",
        "\n",
        "print(res['message']['content'])"
      ],
      "metadata": {
        "id": "0maBPMfk9bWB"
      },
      "execution_count": null,
      "outputs": []
    },
    {
      "cell_type": "code",
      "source": [
        "from IPython.display import display, Image, Audio\n",
        "\n",
        "import cv2  # We're using OpenCV to read video, to install !pip install opencv-python\n",
        "import base64\n",
        "import time\n",
        "import os\n",
        "import requests"
      ],
      "metadata": {
        "id": "8YtsPbg19fQ0"
      },
      "execution_count": null,
      "outputs": []
    },
    {
      "cell_type": "code",
      "source": [
        "import cv2\n",
        "import base64\n",
        "\n",
        "# Initialize the video capture object\n",
        "video = cv2.VideoCapture(path)\n",
        "\n",
        "# List to store base64 encoded frames\n",
        "base64Frames = []\n",
        "\n",
        "while video.isOpened():\n",
        "    success, frame = video.read()\n",
        "\n",
        "    if not success:\n",
        "        break\n",
        "\n",
        "    # Encode the frame as a JPEG image\n",
        "    success, buffer = cv2.imencode(\".jpg\", frame)\n",
        "\n",
        "    if success:\n",
        "        # Convert to base64 and add to list\n",
        "        base64Frames.append(base64.b64encode(buffer).decode(\"utf-8\"))\n",
        "    else:\n",
        "        print(\"Failed to encode frame\")\n",
        "\n",
        "# Release the video capture object\n",
        "video.release()\n",
        "\n",
        "print(f\"{len(base64Frames)} frames read.\")\n"
      ],
      "metadata": {
        "id": "ue-9UO-Y9obk"
      },
      "execution_count": null,
      "outputs": []
    },
    {
      "cell_type": "code",
      "source": [
        "display_handle = display(None, display_id=True)\n",
        "for img in base64Frames:\n",
        "    display_handle.update(Image(data=base64.b64decode(img.encode(\"utf-8\"))))\n",
        "    time.sleep(0.025)"
      ],
      "metadata": {
        "id": "taH9Puce-bV_"
      },
      "execution_count": null,
      "outputs": []
    },
    {
      "cell_type": "code",
      "source": [
        "res = ollama.chat(\n",
        "\tmodel=\"llava:7b\",\n",
        "\tmessages=[\n",
        "\t\t{\n",
        "\t\t\t'role': 'user',\n",
        "\t\t\t'content': 'Describe this image in a very short way, in just 2 lines.',\n",
        "\t\t\t'images': [base64.b64decode(img.encode(\"utf-8\"))]\n",
        "\t\t}\n",
        "\t]\n",
        ")\n",
        "\n",
        "print(res['message']['content'])"
      ],
      "metadata": {
        "id": "z-Mj8uLu-eOv"
      },
      "execution_count": null,
      "outputs": []
    },
    {
      "cell_type": "code",
      "source": [
        "import base64\n",
        "import ollama\n",
        "\n",
        "# Assuming 'img' is the base64 encoded image string\n",
        "decoded_image = base64.b64decode(img.encode(\"utf-8\"))\n",
        "\n",
        "# Prepare the message payload\n",
        "messages = [\n",
        "    {\n",
        "        'role': 'user',\n",
        "        'content': 'Describe this image in a very short way, in just 2 lines.',\n",
        "        'images': [decoded_image]\n",
        "    }\n",
        "]\n",
        "\n",
        "# Send the chat request to the model\n",
        "res = ollama.chat(model=\"llava:7b\", messages=messages)\n",
        "\n",
        "# Print the response content\n",
        "print(res['message']['content'])\n"
      ],
      "metadata": {
        "id": "4eIzXaBy-eRn"
      },
      "execution_count": null,
      "outputs": []
    },
    {
      "cell_type": "code",
      "source": [
        "from tqdm import tqdm"
      ],
      "metadata": {
        "id": "GCtoGrA6-eT8"
      },
      "execution_count": null,
      "outputs": []
    },
    {
      "cell_type": "code",
      "source": [
        "for file in tqdm(files):\n",
        "    path = \"D:\\\\ai\\\\ai agents\\\\basic social\\\\data\\\\shorts\\\\{}\".format(file)\n",
        "    video = cv2.VideoCapture(path)\n",
        "    description = \"\"\n",
        "\n",
        "    base64Frames = []\n",
        "    while video.isOpened():\n",
        "        success, frame = video.read()\n",
        "        if not success:\n",
        "            break\n",
        "        _, buffer = cv2.imencode(\".jpg\", frame)\n",
        "        base64Frames.append(base64.b64encode(buffer).decode(\"utf-8\"))\n",
        "\n",
        "    video.release()\n",
        "    total_frames = len(base64Frames)\n",
        "    no_of_frames_to_capture = 5\n",
        "\n",
        "    frames_indexes = list(range(0,total_frames, int(total_frames/no_of_frames_to_capture)))\n",
        "\n",
        "    for i in tqdm(frames_indexes):\n",
        "        frame = base64Frames[i]\n",
        "\n",
        "        res = ollama.chat(\n",
        "    \tmodel=\"llava:7b\",\n",
        "    \tmessages=[\n",
        "        \t\t{\n",
        "        \t\t\t'role': 'user',\n",
        "        \t\t\t'content': 'Describe this image in a very short way, in just 2 lines.',\n",
        "        \t\t\t'images': [base64.b64decode(frame.encode(\"utf-8\"))]\n",
        "        \t\t}\n",
        "        \t]\n",
        "        )\n",
        "\n",
        "        description +=  res['message']['content'] + \"\\n\"\n",
        "    descriptions.append(description)"
      ],
      "metadata": {
        "id": "x9pxjQ_N-eWT"
      },
      "execution_count": null,
      "outputs": []
    },
    {
      "cell_type": "code",
      "source": [
        "import chromadb\n",
        "from chromadb import Settings\n",
        "client = chromadb.PersistentClient(path=\"D:\\\\ai\\\\ai agents\\\\basic social\\\\data\\\\basicsocialdb\",settings=Settings(allow_reset=True))\n",
        "\n",
        "# creating collection with default embedding function\n",
        "collection = client.create_collection(name=\"BasicSocialMedia\")"
      ],
      "metadata": {
        "id": "1p4Cf1fZ_Y9k"
      },
      "execution_count": null,
      "outputs": []
    },
    {
      "cell_type": "code",
      "source": [
        "metadatas = []\n",
        "ids = []\n",
        "category = \"shorts\"\n",
        "for f in files:\n",
        "    obj = {\n",
        "        \"filename\":f,\n",
        "        \"category\":category\n",
        "    }\n",
        "    metadatas.append(obj)\n",
        "    ids.append(f +\"_\"+ category)\n",
        "collection.add(\n",
        "    documents=descriptions,\n",
        "    metadatas=metadatas,\n",
        "    ids=ids\n",
        ")"
      ],
      "metadata": {
        "id": "-RwuxmYH-eYS"
      },
      "execution_count": null,
      "outputs": []
    },
    {
      "cell_type": "code",
      "source": [
        "ids[0]"
      ],
      "metadata": {
        "id": "aWL-BXU8_ko8"
      },
      "execution_count": null,
      "outputs": []
    },
    {
      "cell_type": "code",
      "source": [
        "collection.get(ids[0])"
      ],
      "metadata": {
        "id": "Ji3ouvwz_nBq"
      },
      "execution_count": null,
      "outputs": []
    },
    {
      "cell_type": "code",
      "source": [],
      "metadata": {
        "id": "5u7SyJW3-eb8"
      },
      "execution_count": null,
      "outputs": []
    },
    {
      "cell_type": "code",
      "source": [],
      "metadata": {
        "id": "TY-Jy1EQ-eeG"
      },
      "execution_count": null,
      "outputs": []
    },
    {
      "cell_type": "code",
      "source": [],
      "metadata": {
        "id": "WohG1-8--efg"
      },
      "execution_count": null,
      "outputs": []
    },
    {
      "cell_type": "code",
      "source": [],
      "metadata": {
        "id": "mjQZkd_J-ehb"
      },
      "execution_count": null,
      "outputs": []
    },
    {
      "cell_type": "code",
      "source": [],
      "metadata": {
        "id": "du8Eb-os-ek7"
      },
      "execution_count": null,
      "outputs": []
    }
  ]
}